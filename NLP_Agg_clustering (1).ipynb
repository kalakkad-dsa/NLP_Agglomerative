{
 "cells": [
  {
   "cell_type": "markdown",
   "metadata": {},
   "source": [
    "# Log grouping -"
   ]
  },
  {
   "cell_type": "code",
   "execution_count": null,
   "metadata": {},
   "outputs": [],
   "source": [
    "!pip install gower"
   ]
  },
  {
   "cell_type": "code",
   "execution_count": null,
   "metadata": {},
   "outputs": [],
   "source": [
    "import nltk\n",
    "from nltk import word_tokenize, sent_tokenize\n",
    "from nltk.corpus import stopwords\n",
    "nltk.download('stopwords')\n",
    "import string\n",
    "from scipy.cluster import hierarchy\n",
    "from sklearn.cluster import AgglomerativeClustering\n",
    "import numpy as np\n",
    "\n",
    "#!pip install gensim"
   ]
  },
  {
   "cell_type": "code",
   "execution_count": null,
   "metadata": {},
   "outputs": [],
   "source": [
    "def convert_to_vector (sentence, modelv):\n",
    "    vset = []\n",
    "    numwords = 0\n",
    "\n",
    "    for word in sentence:\n",
    "        print(\"word :\", word)\n",
    "        try:\n",
    "            if (numwords == 0):\n",
    "                vset  = modelv.wv.get_vector(word, norm=True)\n",
    "            else:\n",
    "                vset = np.add(vset,modelv.wv.get_vector(word, norm=True))\n",
    "            numwords += 1\n",
    "        except:\n",
    "           pass\n",
    "    print(vset)\n",
    "    return(np.asarray(vset)/numwords)"
   ]
  },
  {
   "cell_type": "markdown",
   "metadata": {},
   "source": [
    "## Dataset: Wine reviews"
   ]
  },
  {
   "cell_type": "code",
   "execution_count": null,
   "metadata": {},
   "outputs": [],
   "source": [
    "import pandas as pd\n",
    "\n",
    "# 100,000 wine reviews\n",
    "\n",
    "wine_df = pd.read_csv(\"wine.csv\")\n",
    "reviews = wine_df[\"description\"].values[:10000]"
   ]
  },
  {
   "cell_type": "markdown",
   "metadata": {},
   "source": [
    "#### Sample wine review"
   ]
  },
  {
   "cell_type": "code",
   "execution_count": null,
   "metadata": {},
   "outputs": [],
   "source": [
    "len(reviews)"
   ]
  },
  {
   "cell_type": "markdown",
   "metadata": {},
   "source": [
    "## Preprocess the corpus (text)"
   ]
  },
  {
   "cell_type": "code",
   "execution_count": null,
   "metadata": {},
   "outputs": [],
   "source": [
    "# A list of stopp words and punctuation to be removed\n",
    "stpwrds = stopwords.words('english') + list(string.punctuation)"
   ]
  },
  {
   "cell_type": "code",
   "execution_count": null,
   "metadata": {},
   "outputs": [],
   "source": [
    "processed_reviews = []\n",
    "\n",
    "for review in  reviews:\n",
    "    processed_reviews.append([word \n",
    "                                for word in word_tokenize(review.lower())\n",
    "                                if word \n",
    "                                not in stpwrds]) "
   ]
  },
  {
   "cell_type": "code",
   "execution_count": null,
   "metadata": {},
   "outputs": [],
   "source": [
    "from gensim.models.word2vec import Word2Vec"
   ]
  },
  {
   "cell_type": "code",
   "execution_count": null,
   "metadata": {},
   "outputs": [],
   "source": [
    "# Preprocess 100,000 wine reviews\n",
    "modelvec = Word2Vec(sentences=processed_reviews, vector_size=40, # or use size, depending on version\n",
    "                 window=40, min_count=10, sg=1)\n",
    "sentences = []\n",
    " \n"
   ]
  },
  {
   "cell_type": "code",
   "execution_count": null,
   "metadata": {},
   "outputs": [],
   "source": [
    "for review in processed_reviews:\n",
    "    sentences.append(convert_to_vector(review,modelvec))"
   ]
  },
  {
   "cell_type": "code",
   "execution_count": null,
   "metadata": {},
   "outputs": [],
   "source": [
    "VecX =  np.array(sentences)"
   ]
  },
  {
   "cell_type": "code",
   "execution_count": null,
   "metadata": {},
   "outputs": [],
   "source": [
    "#how to find K \n",
    "import matplotlib.pyplot as plt\n",
    "within_cluster_ss = []\n",
    "for index in range(1,6):\n",
    "    kmeans =  cluster.KMeans(n_clusters=index,n_init=10,random_state=42 )\n",
    "    #random set each time with 42\n",
    "    kmeans.fit(VecX)\n",
    "    within_cluster_ss.append(kmeans.inertia_)\n",
    "plt.plot(range(1,6), within_cluster_ss)\n",
    "plt.xlabel('Values for K')\n",
    "plt.ylabel('Distortion')\n",
    "plt.title('The Elbow Method using Distortion')\n",
    "plt.show()"
   ]
  },
  {
   "cell_type": "markdown",
   "metadata": {},
   "source": [
    "# we have found k = 3 using elbow method for kmeans"
   ]
  },
  {
   "cell_type": "code",
   "execution_count": null,
   "metadata": {},
   "outputs": [],
   "source": []
  },
  {
   "cell_type": "code",
   "execution_count": null,
   "metadata": {},
   "outputs": [],
   "source": [
    " #Agglomerative clustering is sophisticated version of hierarchical clustering. We see here to that 3 is \"choice\"  based on \n",
    "#silhouette score.    "
   ]
  },
  {
   "cell_type": "code",
   "execution_count": null,
   "metadata": {},
   "outputs": [],
   "source": [
    "#Now we need to determine and check K for hierarchy\n",
    "hl = hierarchy.linkage(VecX,'ward')\n",
    "#This is a beautiful and yet simple method - ward to determine distance\n",
    "dng = hierarchy.dendrogram(hl)\n",
    "plt.xlim(0,10)\n",
    "plt.ylim(0,0.5)\n",
    "plt.title (\"Dendrogram\")\n",
    "plt.ylabel(\"distance\")"
   ]
  },
  {
   "cell_type": "code",
   "execution_count": null,
   "metadata": {},
   "outputs": [],
   "source": [
    "from numpy import unique\n",
    "from numpy import where\n",
    "from sklearn.cluster import AgglomerativeClustering\n",
    "from matplotlib import pyplot\n",
    "from sklearn.metrics import silhouette_score \n",
    "\n",
    "agc = AgglomerativeClustering(n_clusters=3, metric='euclidean', linkage='ward')\n",
    "yhat_agc = agc.fit_predict(VecX)\n",
    "#Now game over\n",
    "print(yhat_agc)\n",
    "yhat = agc.fit(VecX)\n",
    "# retrieve unique clusters\n",
    "clusters = unique(yhat)\n",
    "# Calculate cluster validation metrics\n",
    "score_AGclustering_s = silhouette_score(VecX, yhat.labels_, metric='euclidean')\n",
    "print('Silhouette Score: ',  score_AGclustering_s)\n",
    " "
   ]
  },
  {
   "cell_type": "code",
   "execution_count": null,
   "metadata": {},
   "outputs": [],
   "source": [
    "for index,sent in enumerate(processed_reviews):\n",
    "    print( str(yhat_agc[index]), \":::\", str(sent))\n",
    "        \n",
    "\n"
   ]
  },
  {
   "cell_type": "markdown",
   "metadata": {},
   "source": [
    "# Using Gower matrix"
   ]
  },
  {
   "cell_type": "code",
   "execution_count": null,
   "metadata": {},
   "outputs": [],
   "source": [
    "import gower\n",
    " "
   ]
  },
  {
   "cell_type": "code",
   "execution_count": null,
   "metadata": {},
   "outputs": [],
   "source": [
    "distance_matrix = gower.gower_matrix(VecX)"
   ]
  },
  {
   "cell_type": "code",
   "execution_count": null,
   "metadata": {},
   "outputs": [],
   "source": [
    "distance_matrix"
   ]
  },
  {
   "cell_type": "code",
   "execution_count": null,
   "metadata": {},
   "outputs": [],
   "source": [
    "new_agc = AgglomerativeClustering(n_clusters=3, metric='precomputed', linkage='average')\n",
    "clusters =new_agc.fit_predict(distance_matrix)"
   ]
  },
  {
   "cell_type": "code",
   "execution_count": null,
   "metadata": {},
   "outputs": [],
   "source": [
    "yhat = new_agc.fit(distance_matrix)\n",
    "score_AGclustering_s = silhouette_score(distance_matrix, yhat.labels_, metric='precomputed')\n",
    "print('Silhouette Score: ',  score_AGclustering_s)\n",
    "\n"
   ]
  },
  {
   "cell_type": "code",
   "execution_count": null,
   "metadata": {},
   "outputs": [],
   "source": []
  }
 ],
 "metadata": {
  "kernelspec": {
   "display_name": "Python 3",
   "language": "python",
   "name": "python3"
  },
  "language_info": {
   "codemirror_mode": {
    "name": "ipython",
    "version": 3
   },
   "file_extension": ".py",
   "mimetype": "text/x-python",
   "name": "python",
   "nbconvert_exporter": "python",
   "pygments_lexer": "ipython3",
   "version": "3.8.5"
  }
 },
 "nbformat": 4,
 "nbformat_minor": 2
}
